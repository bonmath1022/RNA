{
 "cells": [
  {
   "cell_type": "code",
   "execution_count": 148,
   "id": "educated-theme",
   "metadata": {},
   "outputs": [],
   "source": [
    "import pandas as pd\n",
    "import numpy as np\n",
    "from sklearn.linear_model import LogisticRegression , BayesianRidge, LinearRegression\n",
    "from sklearn.svm import SVR\n",
    "from sklearn.ensemble import RandomForestClassifier, RandomForestRegressor, StackingRegressor\n",
    "from sklearn.neighbors import KNeighborsRegressor \n",
    "from sklearn.naive_bayes import GaussianNB \n",
    "from sklearn.tree import DecisionTreeClassifier, DecisionTreeRegressor \n",
    "from sklearn.model_selection import train_test_split  as tts\n",
    "from sklearn.metrics import mean_absolute_error\n",
    "from sklearn import linear_model\n",
    "import matplotlib.pyplot as plt"
   ]
  },
  {
   "cell_type": "markdown",
   "id": "talented-merit",
   "metadata": {},
   "source": [
    "## Carga del dataset"
   ]
  },
  {
   "cell_type": "code",
   "execution_count": 66,
   "id": "willing-conflict",
   "metadata": {},
   "outputs": [],
   "source": [
    "data = pd.read_csv(\"Datos_Clima_Diarios_Campanula2.csv\", sep = \";\")\n",
    "data.columns = [i.replace(\".\", \"_\") for i in data.columns]\n",
    "data = data.iloc[:,1:]"
   ]
  },
  {
   "cell_type": "markdown",
   "id": "executive-scenario",
   "metadata": {},
   "source": [
    "## Parsear los datos a tipo float"
   ]
  },
  {
   "cell_type": "code",
   "execution_count": 67,
   "id": "executed-berlin",
   "metadata": {},
   "outputs": [],
   "source": [
    "for i in data.columns:\n",
    "    data[i] = [str(j).replace(\",\",\".\") for j in data[i]]\n",
    "    data[i] = data[i].astype(\"float64\")"
   ]
  },
  {
   "cell_type": "markdown",
   "id": "demonstrated-technician",
   "metadata": {},
   "source": [
    "## Escalamos los datos"
   ]
  },
  {
   "cell_type": "code",
   "execution_count": 68,
   "id": "backed-monitoring",
   "metadata": {},
   "outputs": [
    {
     "data": {
      "text/html": [
       "<div>\n",
       "<style scoped>\n",
       "    .dataframe tbody tr th:only-of-type {\n",
       "        vertical-align: middle;\n",
       "    }\n",
       "\n",
       "    .dataframe tbody tr th {\n",
       "        vertical-align: top;\n",
       "    }\n",
       "\n",
       "    .dataframe thead th {\n",
       "        text-align: right;\n",
       "    }\n",
       "</style>\n",
       "<table border=\"1\" class=\"dataframe\">\n",
       "  <thead>\n",
       "    <tr style=\"text-align: right;\">\n",
       "      <th></th>\n",
       "      <th>Lluvia_mm</th>\n",
       "      <th>Humedad_por</th>\n",
       "      <th>Dir_Viento_Gr</th>\n",
       "      <th>Punto_Rocio_gc</th>\n",
       "      <th>UV_Index</th>\n",
       "      <th>Temperatura_gc</th>\n",
       "      <th>Max_Temperatura_gc</th>\n",
       "      <th>Min_Temperatura_gc</th>\n",
       "      <th>Vel_Viento_km_h</th>\n",
       "      <th>Radiacion_Solar_w_m2</th>\n",
       "      <th>Evapotranspiracion_mm</th>\n",
       "      <th>Presion_Atm_hpa</th>\n",
       "      <th>Tallos_Campanula</th>\n",
       "    </tr>\n",
       "  </thead>\n",
       "  <tbody>\n",
       "    <tr>\n",
       "      <td>0</td>\n",
       "      <td>0.867816</td>\n",
       "      <td>-0.132953</td>\n",
       "      <td>0.746022</td>\n",
       "      <td>-1.100245</td>\n",
       "      <td>-0.147563</td>\n",
       "      <td>-1.137066</td>\n",
       "      <td>-1.076485</td>\n",
       "      <td>0.149065</td>\n",
       "      <td>-1.649269</td>\n",
       "      <td>-0.395736</td>\n",
       "      <td>-0.236053</td>\n",
       "      <td>-0.018976</td>\n",
       "      <td>-0.763365</td>\n",
       "    </tr>\n",
       "    <tr>\n",
       "      <td>1</td>\n",
       "      <td>-0.458059</td>\n",
       "      <td>0.086785</td>\n",
       "      <td>1.264367</td>\n",
       "      <td>-1.021677</td>\n",
       "      <td>-0.151097</td>\n",
       "      <td>-1.124973</td>\n",
       "      <td>1.300740</td>\n",
       "      <td>-1.697884</td>\n",
       "      <td>-1.030714</td>\n",
       "      <td>0.525620</td>\n",
       "      <td>-0.143387</td>\n",
       "      <td>0.692221</td>\n",
       "      <td>-0.804684</td>\n",
       "    </tr>\n",
       "    <tr>\n",
       "      <td>2</td>\n",
       "      <td>-0.415289</td>\n",
       "      <td>-0.115566</td>\n",
       "      <td>1.228341</td>\n",
       "      <td>-0.944551</td>\n",
       "      <td>-0.132935</td>\n",
       "      <td>-0.770054</td>\n",
       "      <td>1.147134</td>\n",
       "      <td>-2.403721</td>\n",
       "      <td>-0.038603</td>\n",
       "      <td>0.675118</td>\n",
       "      <td>-0.097661</td>\n",
       "      <td>1.561520</td>\n",
       "      <td>-0.941327</td>\n",
       "    </tr>\n",
       "    <tr>\n",
       "      <td>3</td>\n",
       "      <td>0.055183</td>\n",
       "      <td>-0.303852</td>\n",
       "      <td>0.550578</td>\n",
       "      <td>0.043043</td>\n",
       "      <td>-0.157716</td>\n",
       "      <td>0.049326</td>\n",
       "      <td>-0.198740</td>\n",
       "      <td>0.167175</td>\n",
       "      <td>0.731615</td>\n",
       "      <td>-0.281942</td>\n",
       "      <td>-0.187843</td>\n",
       "      <td>1.854540</td>\n",
       "      <td>-0.943139</td>\n",
       "    </tr>\n",
       "    <tr>\n",
       "      <td>4</td>\n",
       "      <td>-0.458059</td>\n",
       "      <td>-1.410922</td>\n",
       "      <td>-0.131700</td>\n",
       "      <td>-0.494410</td>\n",
       "      <td>-0.127842</td>\n",
       "      <td>0.709642</td>\n",
       "      <td>0.386422</td>\n",
       "      <td>-0.162559</td>\n",
       "      <td>1.667240</td>\n",
       "      <td>1.261228</td>\n",
       "      <td>-0.041773</td>\n",
       "      <td>2.291485</td>\n",
       "      <td>-0.953288</td>\n",
       "    </tr>\n",
       "    <tr>\n",
       "      <td>...</td>\n",
       "      <td>...</td>\n",
       "      <td>...</td>\n",
       "      <td>...</td>\n",
       "      <td>...</td>\n",
       "      <td>...</td>\n",
       "      <td>...</td>\n",
       "      <td>...</td>\n",
       "      <td>...</td>\n",
       "      <td>...</td>\n",
       "      <td>...</td>\n",
       "      <td>...</td>\n",
       "      <td>...</td>\n",
       "      <td>...</td>\n",
       "    </tr>\n",
       "    <tr>\n",
       "      <td>1518</td>\n",
       "      <td>-0.458059</td>\n",
       "      <td>-0.827216</td>\n",
       "      <td>0.680880</td>\n",
       "      <td>-0.437711</td>\n",
       "      <td>8.405140</td>\n",
       "      <td>0.229980</td>\n",
       "      <td>0.474197</td>\n",
       "      <td>0.208391</td>\n",
       "      <td>-0.098629</td>\n",
       "      <td>-3.215674</td>\n",
       "      <td>7.146139</td>\n",
       "      <td>1.122989</td>\n",
       "      <td>2.207629</td>\n",
       "    </tr>\n",
       "    <tr>\n",
       "      <td>1519</td>\n",
       "      <td>-0.458059</td>\n",
       "      <td>0.174164</td>\n",
       "      <td>0.375179</td>\n",
       "      <td>-0.380419</td>\n",
       "      <td>4.568774</td>\n",
       "      <td>-0.593117</td>\n",
       "      <td>-0.718073</td>\n",
       "      <td>0.131110</td>\n",
       "      <td>0.260851</td>\n",
       "      <td>-3.216932</td>\n",
       "      <td>4.834423</td>\n",
       "      <td>0.404974</td>\n",
       "      <td>1.702738</td>\n",
       "    </tr>\n",
       "    <tr>\n",
       "      <td>1520</td>\n",
       "      <td>-0.458059</td>\n",
       "      <td>1.490039</td>\n",
       "      <td>0.247653</td>\n",
       "      <td>0.000843</td>\n",
       "      <td>4.866816</td>\n",
       "      <td>-1.298779</td>\n",
       "      <td>-0.037821</td>\n",
       "      <td>-0.033757</td>\n",
       "      <td>-0.794657</td>\n",
       "      <td>-3.216882</td>\n",
       "      <td>4.656599</td>\n",
       "      <td>0.143104</td>\n",
       "      <td>1.213069</td>\n",
       "    </tr>\n",
       "    <tr>\n",
       "      <td>1521</td>\n",
       "      <td>1.252748</td>\n",
       "      <td>1.805059</td>\n",
       "      <td>0.097324</td>\n",
       "      <td>0.481543</td>\n",
       "      <td>3.609618</td>\n",
       "      <td>-0.618894</td>\n",
       "      <td>-0.738486</td>\n",
       "      <td>0.816339</td>\n",
       "      <td>-1.284306</td>\n",
       "      <td>-3.217287</td>\n",
       "      <td>3.983407</td>\n",
       "      <td>0.258327</td>\n",
       "      <td>1.010315</td>\n",
       "    </tr>\n",
       "    <tr>\n",
       "      <td>1522</td>\n",
       "      <td>-0.415289</td>\n",
       "      <td>2.987511</td>\n",
       "      <td>-1.669839</td>\n",
       "      <td>-1.038654</td>\n",
       "      <td>-0.260408</td>\n",
       "      <td>-3.645938</td>\n",
       "      <td>-6.694049</td>\n",
       "      <td>1.135769</td>\n",
       "      <td>-2.595430</td>\n",
       "      <td>-3.218461</td>\n",
       "      <td>-0.487604</td>\n",
       "      <td>1.122498</td>\n",
       "      <td>0.656710</td>\n",
       "    </tr>\n",
       "  </tbody>\n",
       "</table>\n",
       "<p>1523 rows × 13 columns</p>\n",
       "</div>"
      ],
      "text/plain": [
       "      Lluvia_mm  Humedad_por  Dir_Viento_Gr  Punto_Rocio_gc  UV_Index  \\\n",
       "0      0.867816    -0.132953       0.746022       -1.100245 -0.147563   \n",
       "1     -0.458059     0.086785       1.264367       -1.021677 -0.151097   \n",
       "2     -0.415289    -0.115566       1.228341       -0.944551 -0.132935   \n",
       "3      0.055183    -0.303852       0.550578        0.043043 -0.157716   \n",
       "4     -0.458059    -1.410922      -0.131700       -0.494410 -0.127842   \n",
       "...         ...          ...            ...             ...       ...   \n",
       "1518  -0.458059    -0.827216       0.680880       -0.437711  8.405140   \n",
       "1519  -0.458059     0.174164       0.375179       -0.380419  4.568774   \n",
       "1520  -0.458059     1.490039       0.247653        0.000843  4.866816   \n",
       "1521   1.252748     1.805059       0.097324        0.481543  3.609618   \n",
       "1522  -0.415289     2.987511      -1.669839       -1.038654 -0.260408   \n",
       "\n",
       "      Temperatura_gc  Max_Temperatura_gc  Min_Temperatura_gc  Vel_Viento_km_h  \\\n",
       "0          -1.137066           -1.076485            0.149065        -1.649269   \n",
       "1          -1.124973            1.300740           -1.697884        -1.030714   \n",
       "2          -0.770054            1.147134           -2.403721        -0.038603   \n",
       "3           0.049326           -0.198740            0.167175         0.731615   \n",
       "4           0.709642            0.386422           -0.162559         1.667240   \n",
       "...              ...                 ...                 ...              ...   \n",
       "1518        0.229980            0.474197            0.208391        -0.098629   \n",
       "1519       -0.593117           -0.718073            0.131110         0.260851   \n",
       "1520       -1.298779           -0.037821           -0.033757        -0.794657   \n",
       "1521       -0.618894           -0.738486            0.816339        -1.284306   \n",
       "1522       -3.645938           -6.694049            1.135769        -2.595430   \n",
       "\n",
       "      Radiacion_Solar_w_m2  Evapotranspiracion_mm  Presion_Atm_hpa  \\\n",
       "0                -0.395736              -0.236053        -0.018976   \n",
       "1                 0.525620              -0.143387         0.692221   \n",
       "2                 0.675118              -0.097661         1.561520   \n",
       "3                -0.281942              -0.187843         1.854540   \n",
       "4                 1.261228              -0.041773         2.291485   \n",
       "...                    ...                    ...              ...   \n",
       "1518             -3.215674               7.146139         1.122989   \n",
       "1519             -3.216932               4.834423         0.404974   \n",
       "1520             -3.216882               4.656599         0.143104   \n",
       "1521             -3.217287               3.983407         0.258327   \n",
       "1522             -3.218461              -0.487604         1.122498   \n",
       "\n",
       "      Tallos_Campanula  \n",
       "0            -0.763365  \n",
       "1            -0.804684  \n",
       "2            -0.941327  \n",
       "3            -0.943139  \n",
       "4            -0.953288  \n",
       "...                ...  \n",
       "1518          2.207629  \n",
       "1519          1.702738  \n",
       "1520          1.213069  \n",
       "1521          1.010315  \n",
       "1522          0.656710  \n",
       "\n",
       "[1523 rows x 13 columns]"
      ]
     },
     "execution_count": 68,
     "metadata": {},
     "output_type": "execute_result"
    }
   ],
   "source": [
    "from sklearn.preprocessing import StandardScaler\n",
    "scaler = StandardScaler()\n",
    "scaler.fit(data)\n",
    "data_es = pd.DataFrame(scaler.transform(data),columns = data.columns)\n",
    "data_es"
   ]
  },
  {
   "cell_type": "markdown",
   "id": "pacific-fifteen",
   "metadata": {},
   "source": [
    "## Separamos los datos de la variable objetivo"
   ]
  },
  {
   "cell_type": "code",
   "execution_count": 69,
   "id": "continent-yesterday",
   "metadata": {},
   "outputs": [],
   "source": [
    "X = data_es.loc[:,data_es.columns != 'Tallos_Campanula']\n",
    "y = data_es['Tallos_Campanula']"
   ]
  },
  {
   "cell_type": "markdown",
   "id": "original-contest",
   "metadata": {},
   "source": [
    "## Dividimos los datos en train y test"
   ]
  },
  {
   "cell_type": "code",
   "execution_count": 77,
   "id": "russian-hotel",
   "metadata": {},
   "outputs": [],
   "source": [
    "X_train, X_test, y_train, y_test = tts(X, y,  test_size=0.2,random_state=0)"
   ]
  },
  {
   "cell_type": "markdown",
   "id": "hollow-charity",
   "metadata": {},
   "source": [
    "## Modelado predictivo\n",
    "* Ahora predeciremos si el cliente se auto curará o no usando algunos algoritmos de regresión. A continuación se muestran los algoritmos que usaremos para construir el modelo:\n",
    "\n",
    "    * LinearRegression \n",
    "    \n",
    "    * linear_model.Lasso\n",
    "    \n",
    "    * SVR\n",
    "\n",
    "    * RandomForestRegressor\n",
    "\n",
    "    * KNeighborsRegressor\n",
    "\n",
    "    * BayesianRidge\n",
    "\n",
    "    * DecisionTreeRegressor\n",
    "\n",
    "        \n",
    " ### Nota: Se prueban los modelos en crudo antes mencionados para luego escoger el de mejor rendimiento. \n",
    "    \n",
    "\n"
   ]
  },
  {
   "cell_type": "code",
   "execution_count": 123,
   "id": "laden-sense",
   "metadata": {},
   "outputs": [],
   "source": [
    "lr = LinearRegression()\n",
    "lrl = linear_model.Lasso(alpha=0.1)\n",
    "svr = SVR()\n",
    "tree = DecisionTreeRegressor()\n",
    "knn = KNeighborsRegressor() \n",
    "rfr = RandomForestRegressor(n_estimators=100)"
   ]
  },
  {
   "cell_type": "markdown",
   "id": "front-ideal",
   "metadata": {},
   "source": [
    "## Entrenamos los modelos y realizamos predicciones"
   ]
  },
  {
   "cell_type": "code",
   "execution_count": 153,
   "id": "handed-belarus",
   "metadata": {},
   "outputs": [],
   "source": [
    "all_regs = [lr, lrl, svr, tree, knn, rfr]\n",
    "regs_labels = [\"lr\", \"lrl\",\"svr\", \"tree\", \"knn\", \"rfr\"]\n",
    "mae_reg = {}\n",
    "for reg, label in zip(all_regs, regs_labels):\n",
    "    reg.fit(X_train,y_train)\n",
    "    y_pred = reg.predict(X_test)\n",
    "    mae_reg[label]=mean_absolute_error(y_test,y_pred)"
   ]
  },
  {
   "cell_type": "markdown",
   "id": "unsigned-tucson",
   "metadata": {},
   "source": [
    "## Visualizamos las metricas de cada modelo"
   ]
  },
  {
   "cell_type": "code",
   "execution_count": 145,
   "id": "historical-motorcycle",
   "metadata": {},
   "outputs": [
    {
     "data": {
      "image/png": "[encoded data removed]",
      "text/plain": [
       "<Figure size 936x504 with 1 Axes>"
      ]
     },
     "metadata": {
      "needs_background": "light"
     },
     "output_type": "display_data"
    }
   ],
   "source": [
    "fig, ax = plt.subplots(figsize=(13, 7))\n",
    "ax.hlines(mae_reg.keys(), xmin=0, xmax=1)\n",
    "ax.plot(mae_reg.values(), mae_reg.keys(), \"o\", color='black')\n",
    "ax.tick_params(axis='y', which='major', labelsize=12)\n",
    "ax.set_title('Comparación de error de test modelos')\n",
    "ax.set_xlabel('Test mae')\n",
    "plt.grid()\n",
    "plt.show()"
   ]
  },
  {
   "cell_type": "markdown",
   "id": "solar-fundamentals",
   "metadata": {},
   "source": [
    "## Construimos un modelo StackingRegressor"
   ]
  },
  {
   "cell_type": "code",
   "execution_count": 161,
   "id": "arctic-authority",
   "metadata": {},
   "outputs": [],
   "source": [
    "estimators = [('svr', svr),\n",
    "              ('rfr', rfr)]\n",
    "\n",
    "stack_reg = StackingRegressor(estimators = estimators,\n",
    "                                       final_estimator = svr)\n"
   ]
  },
  {
   "cell_type": "code",
   "execution_count": 156,
   "id": "institutional-payroll",
   "metadata": {},
   "outputs": [],
   "source": [
    "all_regs = [lr, lrl, svr, tree, knn, rfr, stack_reg]\n",
    "regs_labels = [\"lr\", \"lrl\",\"svr\", \"tree\", \"knn\", \"rfr\", \"stack_reg\"]\n",
    "mae_reg = {}\n",
    "for reg, label in zip(all_regs, regs_labels):\n",
    "    reg.fit(X_train,y_train)\n",
    "    y_pred = reg.predict(X_test)\n",
    "    mae_reg[label]=mean_absolute_error(y_test,y_pred)"
   ]
  },
  {
   "cell_type": "code",
   "execution_count": 157,
   "id": "changed-geology",
   "metadata": {},
   "outputs": [
    {
     "data": {
      "image/png": "[encoded data removed]",
      "text/plain": [
       "<Figure size 936x504 with 1 Axes>"
      ]
     },
     "metadata": {
      "needs_background": "light"
     },
     "output_type": "display_data"
    }
   ],
   "source": [
    "fig, ax = plt.subplots(figsize=(13, 7))\n",
    "ax.hlines(mae_reg.keys(), xmin=0, xmax=1)\n",
    "ax.plot(mae_reg.values(), mae_reg.keys(), \"o\", color='black')\n",
    "ax.tick_params(axis='y', which='major', labelsize=12)\n",
    "ax.set_title('Comparación de error de test modelos')\n",
    "ax.set_xlabel('Test mae')\n",
    "plt.grid()\n",
    "plt.show()"
   ]
  },
  {
   "cell_type": "markdown",
   "id": "toxic-budget",
   "metadata": {},
   "source": [
    "## Construimos un modelo VotingRegressor"
   ]
  },
  {
   "cell_type": "code",
   "execution_count": 163,
   "id": "reported-confidence",
   "metadata": {},
   "outputs": [],
   "source": [
    "from sklearn.ensemble import VotingRegressor\n",
    "vot_reg = VotingRegressor(estimators=[('lr',lr),\n",
    "                                              ('lrl',lrl),\n",
    "                                              ('svr',svr),\n",
    "                                              ('tree',tree),\n",
    "                                              ('knn',knn),\n",
    "                                              ('rfr',rfr)])"
   ]
  },
  {
   "cell_type": "code",
   "execution_count": 164,
   "id": "exotic-feelings",
   "metadata": {},
   "outputs": [],
   "source": [
    "all_regs = [lr, lrl, svr, tree, knn, rfr, stack_reg, vot_reg]\n",
    "regs_labels = [\"lr\", \"lrl\",\"svr\", \"tree\", \"knn\", \"rfr\", \"stack_reg\", \"vot_reg\"]\n",
    "mae_reg = {}\n",
    "for reg, label in zip(all_regs, regs_labels):\n",
    "    reg.fit(X_train,y_train)\n",
    "    y_pred = reg.predict(X_test)\n",
    "    mae_reg[label]=mean_absolute_error(y_test,y_pred)"
   ]
  },
  {
   "cell_type": "code",
   "execution_count": 165,
   "id": "continued-walter",
   "metadata": {},
   "outputs": [
    {
     "data": {
      "image/png": "[encoded data removed]",
      "text/plain": [
       "<Figure size 936x504 with 1 Axes>"
      ]
     },
     "metadata": {
      "needs_background": "light"
     },
     "output_type": "display_data"
    }
   ],
   "source": [
    "fig, ax = plt.subplots(figsize=(13, 7))\n",
    "ax.hlines(mae_reg.keys(), xmin=0, xmax=1)\n",
    "ax.plot(mae_reg.values(), mae_reg.keys(), \"o\", color='black')\n",
    "ax.tick_params(axis='y', which='major', labelsize=12)\n",
    "ax.set_title('Comparación de error de test modelos')\n",
    "ax.set_xlabel('Test mae')\n",
    "plt.grid()\n",
    "plt.show()"
   ]
  },
  {
   "cell_type": "markdown",
   "id": "proper-trigger",
   "metadata": {},
   "source": [
    "## Conclusiones:\n",
    "    * Teneiendo en cuenta la distribución de los datos se evidencia un **mae** alto en cada modelo.\n",
    "    * "
   ]
  }
 ],
 "metadata": {
  "kernelspec": {
   "display_name": "Python 3",
   "language": "python",
   "name": "python3"
  },
  "language_info": {
   "codemirror_mode": {
    "name": "ipython",
    "version": 3
   },
   "file_extension": ".py",
   "mimetype": "text/x-python",
   "name": "python",
   "nbconvert_exporter": "python",
   "pygments_lexer": "ipython3",
   "version": "3.7.4"
  }
 },
 "nbformat": 4,
 "nbformat_minor": 5
}
